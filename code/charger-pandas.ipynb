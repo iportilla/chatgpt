{
 "cells": [
  {
   "cell_type": "code",
   "execution_count": null,
   "metadata": {},
   "outputs": [],
   "source": [
    "!pip3 install pandas\n",
    "import pandas as pd\n",
    "\n",
    "!pip3 install py2neo"
   ]
  }
 ],
 "metadata": {
  "kernelspec": {
   "display_name": "Python 3",
   "language": "python",
   "name": "python3"
  },
  "language_info": {
   "name": "python",
   "version": "3.9.2 (default, Dec  8 2021, 20:30:01) \n[Clang 10.0.0 (clang-1000.10.44.4)]"
  },
  "orig_nbformat": 4,
  "vscode": {
   "interpreter": {
    "hash": "90d0c4074f0dc40fc3c8781325a204331a0b547a75469d892e0edabd3456be25"
   }
  }
 },
 "nbformat": 4,
 "nbformat_minor": 2
}
